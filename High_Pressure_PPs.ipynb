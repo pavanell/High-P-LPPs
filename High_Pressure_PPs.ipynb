{
 "cells": [
  {
   "cell_type": "markdown",
   "id": "52664c66-9aff-42a7-9b78-15eeb1079e65",
   "metadata": {},
   "source": [
    "<hr style=\"height: 5px; background-color: black; border: none;\">"
   ]
  },
  {
   "cell_type": "markdown",
   "id": "f09a2da4-6a41-4950-93eb-3f10aa5af611",
   "metadata": {},
   "source": [
    "# Build OF-DFT PPs for high-pressure ( < 1 TPa ) / high-T systems"
   ]
  },
  {
   "cell_type": "markdown",
   "id": "b5a216b6-06ab-4e89-8d15-2d7c1479b0a2",
   "metadata": {},
   "source": [
    "The phylosophy of the method is as follows:\n",
    " - Select a *reference PP*. This is an existing PP for OFDFT that works well at ambient pressures. For Al, here we use OEPP, which has $Z_{val}=3.0$.\n",
    " - The reference PP is associated to a value of $r_c$, the cutoff radius of the PP. We'll explain later how to get the value of $r_c$.\n",
    " - New PPs are generated for $r_c$ smaller than the reference one, so that they can handle shorter inter-atomic distances as it happens at very high pressures and temperatures."
   ]
  },
  {
   "cell_type": "markdown",
   "id": "817483d1-37a4-47ef-a703-928c50c1996d",
   "metadata": {},
   "source": [
    "<hr style=\"height: 5px; background-color: black; border: none;\">"
   ]
  },
  {
   "cell_type": "markdown",
   "id": "7516caa2-6b03-4a91-9c0c-05fa44fd154c",
   "metadata": {},
   "source": [
    "# Description of the method / theory\n",
    "## Generate PP corrections"
   ]
  },
  {
   "cell_type": "markdown",
   "id": "b815ad95-fb86-4e01-91a8-eb8bf6cf211d",
   "metadata": {},
   "source": [
    "### Because the energy functional is:\n",
    "\n",
    "$$\n",
    "E = T_s[n] + E_{Hxc}[n] + \\int v_{PP}(r)n(r)dr\n",
    "$$"
   ]
  },
  {
   "cell_type": "markdown",
   "id": "b52b2087-bec9-4471-b263-cca496911a25",
   "metadata": {},
   "source": [
    "### then\n",
    "\n",
    "$$\n",
    "\\mu=\\frac{\\delta E}{\\delta n} = \\frac{\\delta Ts}{\\delta n} + \\frac{\\delta E_{Hxc}}{\\delta n} + v_{PP} \\rightarrow v_{PP} = \\mu - \\left( \\frac{\\delta Ts}{\\delta n} + \\frac{\\delta E_{Hxc}}{\\delta n} \\right)\n",
    "$$"
   ]
  },
  {
   "cell_type": "markdown",
   "id": "ec637981-9ed1-4709-947d-73aed21723b0",
   "metadata": {},
   "source": [
    "### Thus, a PP with $r_c=r_0$ can be corrected to work for $r_c=r_1<r_0$ as follows\n",
    "\n",
    "$$\n",
    "v_{PP}^{r_1}(r) = v_{PP}^{r_0}(r) + \\delta v_{PP}(r)\n",
    "$$"
   ]
  },
  {
   "cell_type": "markdown",
   "id": "1b14fc9d-7dc8-447b-99e0-d01447c9911a",
   "metadata": {},
   "source": [
    "### And because:\n",
    "$$\n",
    "\\mu=\\frac{\\delta E}{\\delta n} = \\frac{\\delta Ts}{\\delta n} + \\frac{\\delta E_{Hxc}}{\\delta n} + v_{PP} \\rightarrow v_{PP} = \\mu - \\left( \\frac{\\delta Ts}{\\delta n} + \\frac{\\delta E_{Hxc}}{\\delta n} \\right)\n",
    "$$\n",
    "\n",
    "### we have\n",
    "\n",
    "$$\n",
    "\\delta v_{PP} (r) = v_{T_s}^{r_0} + v_{Hxc}^{r_0} - v_{T_s}^{r_1} - v_{Hxc}^{r_1}+\\text{constant}\n",
    "$$"
   ]
  },
  {
   "cell_type": "markdown",
   "id": "973e0795-2da3-4b45-adda-aa658898cf0e",
   "metadata": {},
   "source": [
    "<hr style=\"height: 5px; background-color: black; border: none;\">"
   ]
  },
  {
   "cell_type": "markdown",
   "id": "633a5454-921d-45bd-824e-134fad703f37",
   "metadata": {},
   "source": [
    "# Implementation"
   ]
  },
  {
   "cell_type": "markdown",
   "id": "6dba6e31-071f-4f7d-8af6-a92d1ee98979",
   "metadata": {},
   "source": [
    "### Import `sys`, `scipy`, `matplotlib`, `dftpy` and `sklearn` modules"
   ]
  },
  {
   "cell_type": "code",
   "execution_count": 1,
   "id": "8b7c387a-9aa6-4369-aba8-de1d63e37d9b",
   "metadata": {},
   "outputs": [],
   "source": [
    "import sys, os\n",
    "sys.path.append(os.path.abspath('./PStudio/'))"
   ]
  },
  {
   "cell_type": "code",
   "execution_count": 2,
   "id": "156ed0bb-e3b3-4c55-b884-a47e71c41470",
   "metadata": {},
   "outputs": [],
   "source": [
    "from pstudio import AE, set_output\n",
    "from pstudio.all_electron import AEwfc\n",
    "#from pstudio.periodic_table import tuple_to_configuration\n",
    "#from pstudio.TM import pseudize_TM\n",
    "#from pstudio.RRKJ import pseudize_RRKJ\n",
    "#from pstudio.vloc import generate_vloc_RRKJ, generate_vloc_TM\n",
    "#from pstudio.pseudo import  calculate_vpot\n",
    "#from pstudio.confinement import ConfinementPotential\n",
    "\n",
    "import numpy as np\n",
    "import matplotlib.pyplot as plt\n",
    "from sklearn.kernel_ridge import KernelRidge\n",
    "from scipy.ndimage import gaussian_filter\n",
    "\n",
    "#from math import pi\n",
    "from dftpy.formats import io\n",
    "from dftpy.functional.pseudo.psp import PSP\n",
    "from dftpy.constants import LEN_CONV\n",
    "from dftpy.functional.pseudo import UPF\n",
    "\n",
    "b2a = LEN_CONV['Bohr']['Angstrom']"
   ]
  },
  {
   "cell_type": "markdown",
   "id": "e7196fa8-cda9-405e-88dd-9bf6322cd1f8",
   "metadata": {},
   "source": [
    "### Get the All Electron (AE) solution for LDA Aluminum"
   ]
  },
  {
   "cell_type": "code",
   "execution_count": 3,
   "id": "4e43319c-9189-480c-961a-9961f2311865",
   "metadata": {},
   "outputs": [
    {
     "name": "stdout",
     "output_type": "stream",
     "text": [
      "\n",
      "scalar relativistic atomic calculation for Al (Aluminum, Z=13)\n",
      "configuration: 1s2 2s2 2p6 3s2 3p1 3d0, 13 electrons\n",
      "exchange-correlation: LDA-python\n"
     ]
    }
   ],
   "source": [
    "set_output('-')\n",
    "ae = AE('Al', config='[Ne] 3s2 3p1 3d0', xcname='LDA-py')"
   ]
  },
  {
   "cell_type": "code",
   "execution_count": 4,
   "id": "cde1d74e-15eb-43ca-b87b-dd521c1bf3cf",
   "metadata": {},
   "outputs": [
    {
     "name": "stdout",
     "output_type": "stream",
     "text": [
      "2001 radial gridpoints in [1e-05,100]\n",
      "\n",
      "Converged in 46 iterations\n",
      "\n",
      "Energy contributions:\n",
      "------------------------------------------------------------------------\n",
      "Kinetic:     +241.944160 Ha     +6583.635930 eV \n",
      "Ionic:       -579.092969 Ha    -15757.922322 eV \n",
      "Hartree:     +112.858966 Ha     +3071.048874 eV \n",
      "XC:           -17.474140 Ha      -475.495575 eV \n",
      "------------------------------------------------------------------------\n",
      "Total:       -241.763848 Ha     -6578.729399 eV \n",
      "\n",
      "state      eigenvalue      eigenvalue        rmax\n",
      "------------------------------------------------------------------------\n",
      "1s2        -55.282099 Ha -1504.302538 eV    0.079 \n",
      "2s2         -3.950386 Ha  -107.495474 eV    0.498 \n",
      "2p6         -2.561850 Ha   -69.711498 eV    0.427 \n",
      "3s2         -0.287959 Ha    -7.835755 eV    2.056 \n",
      "3p1         -0.102491 Ha    -2.788928 eV    2.639 \n",
      "3d0          0.000000 Ha     0.000000 eV    0.000 unbound\n",
      "\n"
     ]
    }
   ],
   "source": [
    "ae.run(verbose=False)"
   ]
  },
  {
   "cell_type": "markdown",
   "id": "22909e1a-1e6d-4cbf-9244-b5f00e457358",
   "metadata": {},
   "source": [
    "### The $r$ coordinate for the AE system"
   ]
  },
  {
   "cell_type": "code",
   "execution_count": 5,
   "id": "c8ecb978-ee4b-44f4-9237-53b8c94e225f",
   "metadata": {},
   "outputs": [],
   "source": [
    "r = ae.rgd.r"
   ]
  },
  {
   "cell_type": "markdown",
   "id": "1d59143b-588f-4f9a-abcd-1fb110346ed1",
   "metadata": {},
   "source": [
    "### Get a pseudovalence density based on the following predetermined form:\n",
    " - Supply $f(r)$, $f'(r)$ and $f''(r)$\n",
    " - The pseudodensity, $g(r)$ should be continuous at $r_c$ (including the derivatives): $g(r_c) = f(r_c),~ g'(r_c)=f'(r_c)\\ldots$\n",
    " - Should go to zero at $r=0$\n",
    " - We propose: $g(r) = A r^4 + B r^3 + C r^2 + D r + E$"
   ]
  },
  {
   "cell_type": "code",
   "execution_count": 6,
   "id": "7f054210-db5f-48c2-8544-24721d9edd22",
   "metadata": {},
   "outputs": [],
   "source": [
    "def valence_density(f, f_prime, f_double_prime, r, r_c):\n",
    "    idx_rc = (np.abs(r - r_c)).argmin()\n",
    "    f_rc = f[idx_rc]\n",
    "    f_prime_rc = f_prime[idx_rc]\n",
    "    f_double_prime_rc = f_double_prime[idx_rc]\n",
    "\n",
    "    E = 0\n",
    "    D = 0\n",
    "    if r_c != 0:\n",
    "        # Create the coefficient matrix and the right-hand side vector\n",
    "        A_matrix = np.array([\n",
    "            [r_c**4, r_c**3, r_c**2],\n",
    "            [4 * r_c**3, 3 * r_c**2, 2 * r_c],\n",
    "            [12 * r_c**2, 6 * r_c, 2]\n",
    "        ])\n",
    "        b_vector = np.array([f_rc, f_prime_rc, f_double_prime_rc])\n",
    "\n",
    "        # Solve the linear system for A, B, and C\n",
    "        A, B, C = np.linalg.solve(A_matrix, b_vector)\n",
    "    else:\n",
    "        A, B, C = 0, 0, 0  # Handle the case where r_c is zero to avoid division by zero\n",
    "\n",
    "    # Define the g function for all r values\n",
    "    g = np.zeros_like(r)\n",
    "    mask_greater_equal_rc = r >= r_c\n",
    "    mask_less_rc = r < r_c\n",
    "\n",
    "    if np.any(mask_greater_equal_rc):\n",
    "        g[mask_greater_equal_rc] = f[mask_greater_equal_rc]\n",
    "    if np.any(mask_less_rc):\n",
    "        r_less_rc = r[mask_less_rc]\n",
    "        if len(r_less_rc) > 0:\n",
    "            g_values_less_rc = A * r_less_rc**4 + B * r_less_rc**3 + C * r_less_rc**2 + D * r_less_rc + E\n",
    "            if len(g_values_less_rc) == len(g[mask_less_rc]):\n",
    "                g[mask_less_rc] = g_values_less_rc\n",
    "\n",
    "    return g"
   ]
  },
  {
   "cell_type": "markdown",
   "id": "adfc049c-38db-45c1-a909-1bab030b8976",
   "metadata": {},
   "source": [
    "### Read the OEPP PP:"
   ]
  },
  {
   "cell_type": "code",
   "execution_count": 7,
   "id": "a9136d10-9b4f-4da2-a224-a611b8170617",
   "metadata": {},
   "outputs": [],
   "source": [
    "upf = UPF('./Al_OEPP_PZ.UPF')\n",
    "r_OEPP = upf.r\n",
    "fac_OEPP = 4*np.pi*r_OEPP**2\n",
    "fac_OEPP_c = fac_OEPP\n",
    "fac_OEPP_c[0]=1.0\n",
    "rho_OEPP = upf.atomic_density\n",
    "vpp_OEPP = upf.v"
   ]
  },
  {
   "cell_type": "markdown",
   "id": "8c22601a-966d-4c8b-bef2-4e711b2879ec",
   "metadata": {},
   "source": [
    "### First, get derivatives of AE density"
   ]
  },
  {
   "cell_type": "code",
   "execution_count": 8,
   "id": "3a608ba7-5379-4858-9005-1e86a02842e7",
   "metadata": {},
   "outputs": [],
   "source": [
    "second_der = ae.rgd.spline_deriv2(ae.rho)\n",
    "der = ae.rgd.spline_deriv1(ae.rho)"
   ]
  },
  {
   "cell_type": "markdown",
   "id": "39b14803-1cdb-4326-9257-69f162225865",
   "metadata": {},
   "source": [
    "### Get the psudodensity for a given $r_c$ and the psudopotential for $r_c$"
   ]
  },
  {
   "cell_type": "markdown",
   "id": "15873825-1ce2-4a3f-ad72-7c3583b90ad9",
   "metadata": {},
   "source": [
    "### The main approximation is \n",
    "$$\n",
    "v_{T_s}(r) = v_{TF}(r)\n",
    "$$\n",
    "\n",
    "The reason for the approximation is purely numerical. Using vW would make the potential too noisy"
   ]
  },
  {
   "cell_type": "code",
   "execution_count": 9,
   "id": "1065fb3e-7a8d-4185-9cf0-42da9c59afbf",
   "metadata": {},
   "outputs": [],
   "source": [
    "def get_vpp_rc(rho_ae,drho_ae,d2rho_ae,r,rc):\n",
    "    from pstudio.oncvpsp_routines.oncvpsp import hartree\n",
    "    rho_v = valence_density(rho_ae, drho_ae, d2rho_ae, r, rc)\n",
    "    N_v = ae.rgd.integrate(rho_v*4*np.pi*r*r)\n",
    "    print(\"Number of valence electrons: \", N_v)\n",
    "    rho_c = rho_ae - rho_v\n",
    "    vhg = hartree(rho_v*4*np.pi, N_v, r)\n",
    "    _, vxcg, _ = ae.calculate_xc(rho_v)\n",
    "    vtfg = ae.calculate_tf(rho_v)\n",
    "    #vvwg = ae.calculate_spline_vw(rho_v)\n",
    "    A=1.0; B=0.0; vpp = A*vtfg + vhg + vxcg # + B*vvwg vW not included bc it is too noisy\n",
    "    return vpp, rho_v, rho_c, N_v"
   ]
  },
  {
   "cell_type": "code",
   "execution_count": 101,
   "id": "27d6c2e4-a671-4a59-83bb-78f04fc3f7ff",
   "metadata": {},
   "outputs": [
    {
     "name": "stdout",
     "output_type": "stream",
     "text": [
      "Number of valence electrons:  4.454995140565998\n",
      "Number of valence electrons:  4.104512472460816\n",
      "Number of valence electrons:  3.2039712873196122\n",
      "Number of valence electrons:  3.000000000000001\n"
     ]
    }
   ],
   "source": [
    "vpp_e_13, rho_ae_valence_13, rho_ae_core_13, N_v_13 = get_vpp_rc(ae.rho,der,second_der,r,1.3)\n",
    "vpp_e_14, rho_ae_valence_14, rho_ae_core_14, N_v_14 = get_vpp_rc(ae.rho,der,second_der,r,1.4)\n",
    "vpp_e_20, rho_ae_valence_20, rho_ae_core_20, N_v_20 = get_vpp_rc(ae.rho,der,second_der,r,2.0)\n",
    "vpp_e_24, rho_ae_valence_24, rho_ae_core_24, N_v_24 = get_vpp_rc(ae.rho,der,second_der,r,2.394726344522496) # found by bisection"
   ]
  },
  {
   "cell_type": "markdown",
   "id": "606737ba-631d-41e0-998a-ea073ed85130",
   "metadata": {},
   "source": [
    "<hr style=\"height: 5px; background-color: black; border: none;\">"
   ]
  },
  {
   "cell_type": "markdown",
   "id": "ba00fa41-cf21-4b61-b238-7fef7e091af6",
   "metadata": {},
   "source": [
    "### The valence density determined by `valence_density` retrieves $Z_{val}=3.0$ for $r_c=2.394726344522496 a_0$ (indicated by `24` hereafter)"
   ]
  },
  {
   "cell_type": "markdown",
   "id": "bb4ffd67-a207-4996-a18a-fdf1c45fb9b4",
   "metadata": {},
   "source": [
    "<hr style=\"height: 5px; background-color: black; border: none;\">"
   ]
  },
  {
   "cell_type": "code",
   "execution_count": 102,
   "id": "4bcd7699-1a0e-44c9-9a5b-9cb6b0ab0759",
   "metadata": {},
   "outputs": [
    {
     "data": {
      "text/plain": [
       "(-0.1, 5.0)"
      ]
     },
     "execution_count": 102,
     "metadata": {},
     "output_type": "execute_result"
    },
    {
     "data": {
      "image/png": "[encoded data removed]",
      "text/plain": [
       "<Figure size 640x480 with 1 Axes>"
      ]
     },
     "metadata": {},
     "output_type": "display_data"
    }
   ],
   "source": [
    "plt.plot(r,rho_ae_valence_13,label=r\"$r_c = 1.3$\")\n",
    "plt.plot(r,rho_ae_valence_14,label=r\"$r_c = 1.4$\")\n",
    "plt.plot(r,rho_ae_valence_20,label=r\"$r_c = 2.0$\")\n",
    "plt.plot(r,rho_ae_valence_24,label=r\"$r_c = 2.4$\")\n",
    "plt.legend(); plt.title(\"Valence densities\"); plt.xlim([-0.1,5])"
   ]
  },
  {
   "cell_type": "markdown",
   "id": "d3cdf6e7-2092-4ae8-ae08-f0f03d5a68de",
   "metadata": {},
   "source": [
    "### Get the psudopotential corrections (from $r_c^0=2.4$ to $r_c^1<2.4$)"
   ]
  },
  {
   "cell_type": "code",
   "execution_count": 103,
   "id": "a9d22578-9310-4a18-b44a-3e9432a65267",
   "metadata": {},
   "outputs": [],
   "source": [
    "vpp_corr_20 = -vpp_e_20 + vpp_e_24\n",
    "vpp_corr_14 = -vpp_e_14 + vpp_e_24\n",
    "vpp_corr_13 = -vpp_e_13 + vpp_e_24\n",
    "vpp_corr_10 = -vpp_e_10 + vpp_e_24"
   ]
  },
  {
   "cell_type": "code",
   "execution_count": 104,
   "id": "7dc7651f-64da-49e5-b445-e703e363a841",
   "metadata": {},
   "outputs": [
    {
     "data": {
      "text/plain": [
       "(-0.1, 5.0)"
      ]
     },
     "execution_count": 104,
     "metadata": {},
     "output_type": "execute_result"
    },
    {
     "data": {
      "image/png": "[encoded data removed]",
      "text/plain": [
       "<Figure size 640x480 with 1 Axes>"
      ]
     },
     "metadata": {},
     "output_type": "display_data"
    }
   ],
   "source": [
    "plt.plot(r,vpp_corr_10,label=r\"$r_c = 1.0$\")\n",
    "plt.plot(r,vpp_corr_14,label=r\"$r_c = 1.4$\")\n",
    "plt.plot(r,vpp_corr_13,label=r\"$r_c = 1.3$\")\n",
    "plt.plot(r,vpp_corr_20,label=r\"$r_c = 2.0$\")\n",
    "plt.legend(); plt.title(\"PP Correction\"); plt.xlim([-0.1,5])"
   ]
  },
  {
   "cell_type": "markdown",
   "id": "ee247f2c-a03a-4951-bc26-a3f574b3463b",
   "metadata": {},
   "source": [
    "<hr style=\"height: 5px; background-color: black; border: none;\">"
   ]
  },
  {
   "cell_type": "markdown",
   "id": "dc43a282-e492-48d5-8394-b5512a80700c",
   "metadata": {},
   "source": [
    "### We may need to smooth $v_{PP}(r)$ in the general range $0<r<\\frac{r_c}{2}$, which may be oscillatory."
   ]
  },
  {
   "cell_type": "markdown",
   "id": "d88759ec-7e8f-4229-b8f6-5835645b4a11",
   "metadata": {},
   "source": [
    "<b><span style=\"color: red;\">This is deactivated for now</span></b>"
   ]
  },
  {
   "cell_type": "markdown",
   "id": "5a137113-a075-4251-8b4e-10614c9ffa81",
   "metadata": {},
   "source": [
    " - One thing to do would be to either impose smoothness\n",
    "\n",
    "$$v_{PP}(0) = \\arg\\min_{v_{PP}(0)} \\int |\\nabla v_{PP}(r)|^2 dr$$"
   ]
  },
  {
   "cell_type": "markdown",
   "id": "2b83d19c-167f-4a18-be48-b45045ddba0c",
   "metadata": {},
   "source": [
    " - Alternatively, we could impose a physical condition on the pseudodensity\n",
    "\n",
    "$$v_{PP}(0) = \\arg\\min_{v_{PP}(0)} \\int \\left|n[v_{PP}](r)-\\text{constr.}\\right| dr = 0$$\n"
   ]
  },
  {
   "cell_type": "raw",
   "id": "f3cec22d-f0b9-4379-96e4-8e95d23e0280",
   "metadata": {},
   "source": [
    "def smooth_vpp(zeroval,vpp,r):\n",
    "    from sklearn.kernel_ridge import KernelRidge\n",
    "    krr_model = KernelRidge(kernel='rbf', alpha=1e-6)\n",
    "    r_min = r[np.argmin(vpp)]\n",
    "    mask = (r < r_min) & (r > r_min/2)\n",
    "    X = np.insert(r[mask],0,0.1)\n",
    "    X = np.insert(X,0,0.0).reshape(-1, 1)\n",
    "    Y = np.insert(vpp[mask],0,zeroval)\n",
    "    Y = np.insert(Y,0,zeroval)\n",
    "    krr_model.fit(X, Y)\n",
    "    mask = r<r_min/2\n",
    "    vpp[mask] = krr_model.predict(r[mask].reshape(-1, 1))\n",
    "    return vpp"
   ]
  },
  {
   "cell_type": "raw",
   "id": "9719141c-3463-4478-a24e-262e035bfe46",
   "metadata": {},
   "source": [
    "vpp_corr_10 = smooth_vpp(0.0,vpp_corr_10,r)\n",
    "vpp_corr_14 = smooth_vpp(-1.4,vpp_corr_14,r)\n",
    "vpp_corr_20 = smooth_vpp(-4.5,vpp_corr_20,r)"
   ]
  },
  {
   "cell_type": "markdown",
   "id": "8d57ebf4-8963-43d9-b7e7-bb7372cd44d1",
   "metadata": {},
   "source": [
    "<hr style=\"height: 5px; background-color: black; border: none;\">"
   ]
  },
  {
   "cell_type": "markdown",
   "id": "0271fcd8-928a-4af6-ad51-ee450ada4132",
   "metadata": {},
   "source": [
    "### Interpolate $v_{PP}$ to grid of reference PP (in this case OEPP)"
   ]
  },
  {
   "cell_type": "code",
   "execution_count": 105,
   "id": "a1d192dd-cf81-44b3-9be5-bb6b28742434",
   "metadata": {},
   "outputs": [],
   "source": [
    "def interpolate_vpp(vpp,r,r_new):\n",
    "    from scipy.interpolate import UnivariateSpline\n",
    "    spline = UnivariateSpline(r, vpp, s=0) \n",
    "    vpp = spline(r_new)\n",
    "    return vpp"
   ]
  },
  {
   "cell_type": "code",
   "execution_count": 106,
   "id": "67e69188-5e55-4044-809f-32383de9d3a4",
   "metadata": {},
   "outputs": [],
   "source": [
    "vpp_corr_OEPP_20 = interpolate_vpp(vpp_corr_20,r,r_OEPP)\n",
    "vpp_corr_OEPP_14 = interpolate_vpp(vpp_corr_14,r,r_OEPP)\n",
    "vpp_corr_OEPP_13 = interpolate_vpp(vpp_corr_13,r,r_OEPP)\n",
    "vpp_corr_OEPP_10 = interpolate_vpp(vpp_corr_10,r,r_OEPP)"
   ]
  },
  {
   "cell_type": "markdown",
   "id": "6d8cc841-186c-4d8c-97a1-6acdc7966fb8",
   "metadata": {},
   "source": [
    "### Write $v_{PP}$ to PSP8 file"
   ]
  },
  {
   "cell_type": "code",
   "execution_count": 107,
   "id": "107bcef7-cecc-40c9-8c73-a80cd0c558a4",
   "metadata": {},
   "outputs": [],
   "source": [
    "def write_pp(filename,atomicnum,vpp_ref,vpp_corr,r,Z,N_v_corr):\n",
    "    engine = PSP(None)\n",
    "    engine.r = r\n",
    "    engine.v = vpp_ref+vpp_corr\n",
    "    engine._zval = Z + N_v_corr\n",
    "    print (\"Zval: \",engine._zval)\n",
    "    engine.info['atomicnum'] = atomicnum # 13\n",
    "    filename = filename + '.psp8'\n",
    "    engine.write(filename)\n",
    "    return filename+\" written\""
   ]
  },
  {
   "cell_type": "code",
   "execution_count": 108,
   "id": "015862bb-c0d6-4a83-a509-0cc2e3a76b35",
   "metadata": {},
   "outputs": [
    {
     "name": "stdout",
     "output_type": "stream",
     "text": [
      "Zval:  3.2039712873196113\n"
     ]
    },
    {
     "data": {
      "text/plain": [
       "'Al_2.0.psp8 written'"
      ]
     },
     "execution_count": 108,
     "metadata": {},
     "output_type": "execute_result"
    }
   ],
   "source": [
    "write_pp('Al_2.0',13,vpp_OEPP,vpp_corr_OEPP_20,r_OEPP,3.0,N_v_20-N_v_24)"
   ]
  },
  {
   "cell_type": "code",
   "execution_count": 109,
   "id": "57f02f60-323c-41c5-86d5-ea355711e466",
   "metadata": {},
   "outputs": [
    {
     "name": "stdout",
     "output_type": "stream",
     "text": [
      "Zval:  4.104512472460815\n"
     ]
    },
    {
     "data": {
      "text/plain": [
       "'Al_1.4.psp8 written'"
      ]
     },
     "execution_count": 109,
     "metadata": {},
     "output_type": "execute_result"
    }
   ],
   "source": [
    "write_pp('Al_1.4',13,vpp_OEPP,vpp_corr_OEPP_14,r_OEPP,3.0,N_v_14-N_v_24)"
   ]
  },
  {
   "cell_type": "code",
   "execution_count": 110,
   "id": "1c9c3b81-d359-4316-9e31-9af9abe64d2a",
   "metadata": {},
   "outputs": [
    {
     "name": "stdout",
     "output_type": "stream",
     "text": [
      "Zval:  4.454995140565997\n"
     ]
    },
    {
     "data": {
      "text/plain": [
       "'Al_1.3.psp8 written'"
      ]
     },
     "execution_count": 110,
     "metadata": {},
     "output_type": "execute_result"
    }
   ],
   "source": [
    "write_pp('Al_1.3',13,vpp_OEPP,vpp_corr_OEPP_13,r_OEPP,3.0,N_v_13-N_v_24)"
   ]
  },
  {
   "cell_type": "code",
   "execution_count": 114,
   "id": "2a2c8cd8-fba1-48fd-abe0-f73bc8b20c99",
   "metadata": {
    "scrolled": true
   },
   "outputs": [
    {
     "data": {
      "text/plain": [
       "(0.0, 10.0)"
      ]
     },
     "execution_count": 114,
     "metadata": {},
     "output_type": "execute_result"
    },
    {
     "data": {
      "image/png": "[encoded data removed]",
      "text/plain": [
       "<Figure size 640x480 with 1 Axes>"
      ]
     },
     "metadata": {},
     "output_type": "display_data"
    }
   ],
   "source": [
    "plt.plot(r_OEPP,vpp_OEPP,color='r',ls=\":\",label=\"OEPP original\")\n",
    "plt.plot(r_OEPP,vpp_OEPP+vpp_corr_OEPP_20,color='g',ls=\"-\",label=\"cOEPP ($r_c = 2.0$)\")\n",
    "plt.plot(r_OEPP,vpp_OEPP+vpp_corr_OEPP_14,color='b',ls=\"-.\",label=\"cOEPP ($r_c = 1.4$)\")\n",
    "plt.plot(r_OEPP,vpp_OEPP+vpp_corr_OEPP_13,color='gray',ls=\"-.\",label=\"cOEPP ($r_c = 1.3$)\")\n",
    "plt.legend()\n",
    "plt.xlim([0,10.0])\n",
    "#plt.ylim(-10,1)"
   ]
  },
  {
   "cell_type": "markdown",
   "id": "8a7ebcd0-a807-4d81-bc86-a9a7d4b8d0fe",
   "metadata": {},
   "source": [
    "<hr style=\"height: 5px; background-color: black; border: none;\">"
   ]
  }
 ],
 "metadata": {
  "kernelspec": {
   "display_name": "Python 3 (ipykernel)",
   "language": "python",
   "name": "python3"
  },
  "language_info": {
   "codemirror_mode": {
    "name": "ipython",
    "version": 3
   },
   "file_extension": ".py",
   "mimetype": "text/x-python",
   "name": "python",
   "nbconvert_exporter": "python",
   "pygments_lexer": "ipython3",
   "version": "3.10.18"
  }
 },
 "nbformat": 4,
 "nbformat_minor": 5
}
